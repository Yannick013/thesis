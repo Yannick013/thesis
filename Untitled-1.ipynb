{
 "cells": [
  {
   "cell_type": "code",
   "execution_count": null,
   "metadata": {},
   "outputs": [
    {
     "name": "stdout",
     "output_type": "stream",
     "text": [
      "classes in the dataset: ['NORMAL', 'PNEUMONIA']\n"
     ]
    }
   ],
   "source": [
    "import math\n",
    "import torchvision.models as models\n",
    "import torch\n",
    "from torch.utils.data import DataLoader\n",
    "from torchvision import datasets, transforms\n",
    "import os\n",
    "import kagglehub\n",
    "import zipfile \n",
    "with zipfile.ZipFile('chest-xray-pneumonia.zip', 'r') as zip_ref:\n",
    "    zip_ref.extractall('chest_xray')\n",
    "\n",
    "device = torch.device(\"cuda:0\")                                 #We use the GPU for training \n",
    "\n",
    "transform = transforms.Compose(                                 #transform function \n",
    "    [transforms.ToTensor(),\n",
    "    transforms.Normalize((0.5,), (0.5,))])\n",
    "\n",
    "\n",
    "'''\n",
    "First we import the the parameters of imagenet based on ResNet-152\n",
    "'''\n",
    "\n",
    "pretrained_model = models.resnet152(weights=models.ResNet152_Weights.IMAGENET1K_V1)  # ImageNet weights\n",
    "\n",
    "''' \n",
    "Now we define the training, validation and test sets\n",
    "'''\n",
    "training_dir = './chest_xray/chest_xray/train' \n",
    "training_set = datasets.ImageFolder(root=training_dir, transform=transform)\n",
    "\n",
    "validation_dir = './chest_xray/chest_xray/val'\n",
    "validation_set = datasets.ImageFolder(root=validation_dir, transform=transform)\n",
    "\n",
    "test_dir = './chest_xray/chest_xray/test'\n",
    "test_set = datasets.ImageFolder(root=test_dir, transform=transform)\n",
    "\n",
    "'''\n",
    "Now we define the training loaders and validation loaders\n",
    "'''\n",
    "\n",
    "training_loader = torch.utils.data.DataLoader(training_set, batch_size=4, shuffle=True)\n",
    "validation_loader = torch.utils.data.DataLoader(validation_set, batch_size=4, shuffle=False)\n",
    "\n",
    "\n"
   ]
  },
  {
   "cell_type": "markdown",
   "metadata": {},
   "source": []
  }
 ],
 "metadata": {
  "kernelspec": {
   "display_name": "thesisenv",
   "language": "python",
   "name": "python3"
  },
  "language_info": {
   "codemirror_mode": {
    "name": "ipython",
    "version": 3
   },
   "file_extension": ".py",
   "mimetype": "text/x-python",
   "name": "python",
   "nbconvert_exporter": "python",
   "pygments_lexer": "ipython3",
   "version": "3.11.0"
  }
 },
 "nbformat": 4,
 "nbformat_minor": 2
}
